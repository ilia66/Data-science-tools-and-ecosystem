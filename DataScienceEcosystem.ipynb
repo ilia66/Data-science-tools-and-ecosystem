{
 "cells": [
  {
   "cell_type": "markdown",
   "id": "3da5c804",
   "metadata": {},
   "source": [
    "# Data Science Tools and Ecosystem\n"
   ]
  },
  {
   "cell_type": "markdown",
   "id": "daa3625d",
   "metadata": {},
   "source": [
    "In this notebook major tools used in Data Science and Ecosystem are explained. "
   ]
  },
  {
   "cell_type": "markdown",
   "id": "54e23248",
   "metadata": {},
   "source": [
    "**Objectives:**\n",
    "- Name programming languages used in data science\n",
    "- List Libraries used by data scientists \n",
    "- List open source data science tools\n",
    "- Using arithmetic exprressions in python "
   ]
  },
  {
   "cell_type": "markdown",
   "id": "e65689e1",
   "metadata": {},
   "source": [
    "Some examples of programming languages commonly used by Data Scientists are:"
   ]
  },
  {
   "cell_type": "markdown",
   "id": "6814d7e4",
   "metadata": {},
   "source": [
    "1. Python\n",
    "2. R\n",
    "3. C++\n",
    "4. Java\n",
    "5. Javascript\n",
    "6. C"
   ]
  },
  {
   "cell_type": "markdown",
   "id": "1562a00b",
   "metadata": {},
   "source": [
    "Some of the libraries used by data sceintitsts are: \n",
    "\n",
    "1. Panda\n",
    "2. Numpy\n",
    "3. Sci-kit learn\n",
    "4. Tensorflow\n",
    "5. Scipy\n",
    "6. Matplotlib\n",
    "7. Keras\n",
    "8. Pytorch"
   ]
  },
  {
   "cell_type": "markdown",
   "id": "cbc8af09",
   "metadata": {},
   "source": [
    "| Data Science Tools |\n",
    "|--------------------|\n",
    "|Jupyter notebook|\n",
    "| Spyder |\n",
    "| R-studio|\n",
    "| Visual-studio|\n",
    "| IBM Watson Studio|"
   ]
  },
  {
   "cell_type": "markdown",
   "id": "e5b1dcf0",
   "metadata": {},
   "source": [
    "### Below are some examples of arithmetic expressions used in python:"
   ]
  },
  {
   "cell_type": "code",
   "execution_count": 3,
   "id": "370dd9bb",
   "metadata": {},
   "outputs": [
    {
     "data": {
      "text/plain": [
       "17"
      ]
     },
     "execution_count": 3,
     "metadata": {},
     "output_type": "execute_result"
    }
   ],
   "source": [
    "#This is an arithmetoic expression to multiply and add integers\n",
    "(3*4)+5"
   ]
  },
  {
   "cell_type": "code",
   "execution_count": 4,
   "id": "6f2c0f31",
   "metadata": {},
   "outputs": [
    {
     "data": {
      "text/plain": [
       "3.3333333333333335"
      ]
     },
     "execution_count": 4,
     "metadata": {},
     "output_type": "execute_result"
    }
   ],
   "source": [
    "#This will convert 200 minutes to hours by diving by 60\n",
    "\n",
    "200/60"
   ]
  },
  {
   "cell_type": "markdown",
   "id": "58450e27",
   "metadata": {},
   "source": [
    "## Author\n",
    "\n",
    "Ali Alidoost"
   ]
  },
  {
   "cell_type": "code",
   "execution_count": null,
   "id": "82b17ada",
   "metadata": {},
   "outputs": [],
   "source": []
  }
 ],
 "metadata": {
  "kernelspec": {
   "display_name": "Python 3 (ipykernel)",
   "language": "python",
   "name": "python3"
  },
  "language_info": {
   "codemirror_mode": {
    "name": "ipython",
    "version": 3
   },
   "file_extension": ".py",
   "mimetype": "text/x-python",
   "name": "python",
   "nbconvert_exporter": "python",
   "pygments_lexer": "ipython3",
   "version": "3.10.9"
  },
  "widgets": {
   "application/vnd.jupyter.widget-state+json": {
    "state": {},
    "version_major": 2,
    "version_minor": 0
   }
  }
 },
 "nbformat": 4,
 "nbformat_minor": 5
}
